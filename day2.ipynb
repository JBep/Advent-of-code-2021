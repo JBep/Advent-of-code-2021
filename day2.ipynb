{
 "cells": [
  {
   "cell_type": "markdown",
   "metadata": {},
   "source": [
    "# Day 2\n",
    "Today we're steering a submarine. Input is commands like \"forward 2\", \"down 3\" and \"up 6\". We are calculating the final position of the submarine with regards to the input."
   ]
  },
  {
   "cell_type": "code",
   "execution_count": 9,
   "metadata": {},
   "outputs": [
    {
     "name": "stdout",
     "output_type": "stream",
     "text": [
      "Answer: 2102357\n"
     ]
    }
   ],
   "source": [
    "contents = open('input_day2.txt','r').read().splitlines()\n",
    "\n",
    "## Part 1\n",
    "pos_horizontal = 0\n",
    "depth = 0\n",
    "\n",
    "for c in contents:\n",
    "    if c[0] == 'f':\n",
    "        pos_horizontal = pos_horizontal + int(c[-1])\n",
    "    elif c[0] == 'd':\n",
    "        depth = depth + int(c[-1])\n",
    "    else:\n",
    "        depth = depth - int(c[-1])\n",
    "\n",
    "print(f'Answer: {pos_horizontal*depth}')\n",
    "\n"
   ]
  },
  {
   "cell_type": "markdown",
   "metadata": {},
   "source": [
    "## Task 2\n",
    "In task 2 the \"down\" and \"up\" commands does not affect the depth directly, instead it \"aims\" the submarine and thus the \"forward\" command affects both horizontal position and depth."
   ]
  },
  {
   "cell_type": "code",
   "execution_count": 8,
   "metadata": {},
   "outputs": [
    {
     "data": {
      "text/plain": [
       "2101031224"
      ]
     },
     "execution_count": 8,
     "metadata": {},
     "output_type": "execute_result"
    }
   ],
   "source": [
    "## Part 2\n",
    "\n",
    "pos_horizontal = 0\n",
    "aim = 0\n",
    "depth = 0\n",
    "\n",
    "for c in contents:\n",
    "    if c[0] == 'f':\n",
    "        pos_horizontal = pos_horizontal + int(c[-1])\n",
    "        depth = depth + aim*int(c[-1])\n",
    "    elif c[0] == 'd':\n",
    "        aim = aim + int(c[-1])\n",
    "    else:\n",
    "        aim = aim - int(c[-1])\n",
    "\n",
    "print(f'Answer: {pos_horizontal*depth}')\n",
    "\n"
   ]
  },
  {
   "cell_type": "code",
   "execution_count": null,
   "metadata": {},
   "outputs": [],
   "source": []
  }
 ],
 "metadata": {
  "interpreter": {
   "hash": "61b4062b24dfb1010f420dad5aa3bd73a4d2af47d0ec44eafec465a35a9d7239"
  },
  "kernelspec": {
   "display_name": "Python 3.9.7 64-bit ('py39': conda)",
   "language": "python",
   "name": "python3"
  },
  "language_info": {
   "codemirror_mode": {
    "name": "ipython",
    "version": 3
   },
   "file_extension": ".py",
   "mimetype": "text/x-python",
   "name": "python",
   "nbconvert_exporter": "python",
   "pygments_lexer": "ipython3",
   "version": "3.9.7"
  },
  "orig_nbformat": 4
 },
 "nbformat": 4,
 "nbformat_minor": 2
}
