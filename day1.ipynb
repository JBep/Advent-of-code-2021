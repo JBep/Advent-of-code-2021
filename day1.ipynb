{
 "cells": [
  {
   "cell_type": "markdown",
   "metadata": {},
   "source": [
    "# Day 1\n",
    "Input is a list of numbers and task is to the count of numbers in the list which is larger than its predeccessor."
   ]
  },
  {
   "cell_type": "code",
   "execution_count": 8,
   "metadata": {},
   "outputs": [
    {
     "name": "stdout",
     "output_type": "stream",
     "text": [
      "Part 1: 1715\n"
     ]
    }
   ],
   "source": [
    "import numpy as np\n",
    "\n",
    "with open('input_day1.txt', 'r') as file:\n",
    "    contents = file.readlines()\n",
    "\n",
    "input =[]\n",
    "for c in contents:\n",
    "    input.append(int(c))\n",
    "\n",
    "## Part 1\n",
    "# Find amount of values which is larger than the previous\n",
    "def count_larger_values(data:list) -> int:\n",
    "    count = 0\n",
    "    previous = None\n",
    "\n",
    "    for current in data:\n",
    "        if previous != None and current > previous:\n",
    "            count = count + 1\n",
    "        previous = current\n",
    "    \n",
    "    return count\n",
    "\n",
    "print('Part 1: ' + str(count_larger_values(input)))\n",
    "\n"
   ]
  },
  {
   "cell_type": "markdown",
   "metadata": {},
   "source": [
    "## Task 2\n",
    "For task 2 we compare the sum of the values in a sliding window of three values, so the first window being value 1 through value 3, the 2nd value 2 through value 4 and so on."
   ]
  },
  {
   "cell_type": "code",
   "execution_count": 50,
   "metadata": {},
   "outputs": [
    {
     "name": "stdout",
     "output_type": "stream",
     "text": [
      "Part 2: 1739\n"
     ]
    }
   ],
   "source": [
    "## Part 2\n",
    "# Compare a sliding window of three values.\n",
    "windows = []\n",
    "\n",
    "for i in range(2,len(input)):\n",
    "    windows.append(input[i-2]+input[i-1]+input[i])\n",
    "\n",
    "print('Part 2: ' + str(count_larger_values(windows)))\n"
   ]
  }
 ],
 "metadata": {
  "interpreter": {
   "hash": "aee8b7b246df8f9039afb4144a1f6fd8d2ca17a180786b69acc140d282b71a49"
  },
  "kernelspec": {
   "display_name": "Python 3.9.7 64-bit",
   "language": "python",
   "name": "python3"
  },
  "language_info": {
   "codemirror_mode": {
    "name": "ipython",
    "version": 3
   },
   "file_extension": ".py",
   "mimetype": "text/x-python",
   "name": "python",
   "nbconvert_exporter": "python",
   "pygments_lexer": "ipython3",
   "version": "3.9.7"
  },
  "orig_nbformat": 4
 },
 "nbformat": 4,
 "nbformat_minor": 2
}
