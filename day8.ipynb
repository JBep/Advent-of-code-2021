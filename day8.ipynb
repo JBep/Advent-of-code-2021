{
 "cells": [
  {
   "cell_type": "markdown",
   "metadata": {},
   "source": [
    "# Day 8\n",
    "\n",
    "We have a 7-segment digit display that displays four digits at a time. However, the segments and signals are broken. So for each four digit display, the correct number of segments light up but not the correct ones. Say that b/g light up, then it must be a 1 as it's the only digit with two segments, so b/g = c/f but we still dont know which one's c and which one's f!\n",
    "\n"
   ]
  },
  {
   "cell_type": "code",
   "execution_count": null,
   "metadata": {},
   "outputs": [],
   "source": [
    "# Digits like so:\n",
    "#   0:      1:      2:      3:      4:\n",
    "#  aaaa    ....    aaaa    aaaa    ....\n",
    "# b    c  .    c  .    c  .    c  b    c\n",
    "# b    c  .    c  .    c  .    c  b    c\n",
    "#  ....    ....    dddd    dddd    dddd\n",
    "# e    f  .    f  e    .  .    f  .    f\n",
    "# e    f  .    f  e    .  .    f  .    f\n",
    "#  gggg    ....    gggg    gggg    ....\n",
    "# \n",
    "#   5:      6:      7:      8:      9:\n",
    "#  aaaa    aaaa    aaaa    aaaa    aaaa\n",
    "# b    .  b    .  .    c  b    c  b    c\n",
    "# b    .  b    .  .    c  b    c  b    c\n",
    "#  dddd    dddd    ....    dddd    dddd\n",
    "#.     f  e    f  .    f  e    f  .    f\n",
    "#.     f  e    f  .    f  e    f  .    f\n",
    "#  gggg    gggg    ....    gggg    gggg\n",
    "\n",
    "#Rules\n",
    "# 5 letters: 3,5 and 2. 6 letters: 0, 6 and 9\n",
    "# 3: If 5 letters and contains 1, then it's a three.\n",
    "# 9: If it's 6 letters and contains 3, then it's a nine.\n",
    "# 5: If 5 letters and contains (4-1) then it's a five.\n",
    "# 2: If 5 letters and is not 3 or 5.\n",
    "# 0: If 6 letters and conntains 1 and is not 9."
   ]
  },
  {
   "cell_type": "code",
   "execution_count": 130,
   "metadata": {},
   "outputs": [],
   "source": [
    "data =  open('input_day8.txt','r').read().splitlines()\n",
    "#Test data\n",
    "#data = open('input_day8_test.txt','r').read().splitlines()\n",
    "input_vals, output_vals = [],[]\n",
    "\n",
    "for d in data:\n",
    "    input, output = d.split(' | ')\n",
    "    input_vals.append(input)\n",
    "    output_vals.append(output)\n"
   ]
  },
  {
   "cell_type": "code",
   "execution_count": 11,
   "metadata": {},
   "outputs": [
    {
     "name": "stdout",
     "output_type": "stream",
     "text": [
      "There are 452 occasions of the numbers 1,4,7 or 8 in the output values.\n"
     ]
    }
   ],
   "source": [
    "# Task 1, only find the number of \"easy digits\" in the output values.\n",
    "\n",
    "count = 0\n",
    "for output in output_vals:\n",
    "    for signal in output.split(' '):\n",
    "        if len(signal) in [2,4,3,7]:\n",
    "            count += 1\n",
    "\n",
    "print(f'There are {count} occasions of the numbers 1,4,7 or 8 in the output values.')\n"
   ]
  },
  {
   "cell_type": "code",
   "execution_count": 128,
   "metadata": {},
   "outputs": [],
   "source": [
    "import numpy as np\n",
    "\n",
    "def compare_strings(signal1,signal2):\n",
    "    \"\"\" Compares if the two strings contain the same charachters.\n",
    "    \n",
    "    \"\"\"\n",
    "    \n",
    "    if len(signal1) != len(signal2):\n",
    "        return False\n",
    "    elif sorted(signal1) == sorted(signal2):\n",
    "        return True\n",
    "    return False\n",
    "\n",
    "def find_easy(input_list,no):\n",
    "    if no == 1:\n",
    "        length = 2\n",
    "    elif no == 4:\n",
    "        length = 4\n",
    "    elif no == 7:\n",
    "        length = 3\n",
    "    elif no == 8:\n",
    "        length = 7\n",
    "    else:\n",
    "        raise KeyError(f'{no} is not a valid number to find with this funciton.')\n",
    "    \n",
    "    i = 0\n",
    "    for input in input_list:\n",
    "        if len(input) == length:\n",
    "            return i\n",
    "        i += 1\n",
    "    \n",
    "# 5 letters: 3,5 and 2. 6 letters: 0, 6 and 9\n",
    "# 3: If 5 letters and contains 1, then it's a three.\n",
    "def find_three(input_list:list[str],index_1:int):\n",
    "    i = 0\n",
    "\n",
    "    for input in input_list:\n",
    "        if len(input) == 5 and all(char in input for char in input_list[index_1]):\n",
    "            return i\n",
    "        i += 1\n",
    "    return -1\n",
    "\n",
    "# 9: If it's 6 letters and contains 3, then it's a nine.\n",
    "def find_nine(input_list:list[str],index_3:int):\n",
    "    i = 0\n",
    "\n",
    "    for input in input_list:\n",
    "        if len(input) == 6 and all(char in input for char in input_list[index_3]):\n",
    "            return i\n",
    "        i += 1\n",
    "    return -1\n",
    "\n",
    "\n",
    "# 5: If 5 letters and contains (4-1) then it's a five.\n",
    "def find_five(input_list:list[str],index_1:int,index_4):\n",
    "    splice = input_list[index_4]\n",
    "\n",
    "    for char in input_list[index_1]:\n",
    "        splice = splice.replace(char,\"\")\n",
    "\n",
    "    i = 0\n",
    "    for input in input_list:\n",
    "        if len(input) == 5 and all(char in input for char in splice):\n",
    "            return i\n",
    "        i += 1\n",
    "    return -1\n",
    "\n",
    "# 2: If 5 letters and is not 3 or 5.\n",
    "def find_two(input_list:list[str],index_3:int,index_5):\n",
    "\n",
    "    i = 0\n",
    "    for input in input_list:\n",
    "        if len(input) == 5 and input != input_list[index_3] and input != input_list[index_5]:\n",
    "            return i\n",
    "        i += 1\n",
    "    return -1\n",
    "\n",
    "# 0: If 6 letters and conntains 1 and is not 9.\n",
    "def find_zero(input_list:list[str],index_1:int,index_9):\n",
    "\n",
    "    i = 0\n",
    "    for input in input_list:\n",
    "        if  len(input) == 6 and all(char in input for char in input_list[index_1]) and input != input_list[index_9]:\n",
    "            return i\n",
    "        i += 1\n",
    "    return -1\n",
    "\n",
    "# 6: If 6 letters and not a nine or zero.\n",
    "def find_six(input_list:list[str],index_0:int,index_9):\n",
    "\n",
    "    i = 0\n",
    "    for input in input_list:\n",
    "        if len(input) == 6 and input != input_list[index_0] and input != input_list[index_9]:\n",
    "            return i\n",
    "        i += 1\n",
    "    return -1\n",
    "\n",
    "def find_segments(input: str):\n",
    "    input_list = input.split(' ')\n",
    "\n",
    "    indexes = [int]*10\n",
    "    # Finding the 1,4,7 and 8\n",
    "    indexes[1],indexes[4],indexes[7],indexes[8] = find_easy(input_list,1),find_easy(input_list,4),find_easy(input_list,7),find_easy(input_list,8)\n",
    "\n",
    "    # Finding the 3\n",
    "    indexes[3] = find_three(input_list,indexes[1])\n",
    "    indexes[9] = find_nine(input_list,indexes[3])\n",
    "    indexes[5] = find_five(input_list,indexes[1],indexes[4])\n",
    "    indexes[2] = find_two(input_list,indexes[3],indexes[5])\n",
    "    indexes[0] = find_zero(input_list,indexes[1],indexes[9])\n",
    "    indexes[6] = find_six(input_list,indexes[0],indexes[9])\n",
    "\n",
    "    for i in range(0,10):\n",
    "        number = int\n",
    "        k = 0\n",
    "        for index in indexes:\n",
    "            if index == i: \n",
    "                number = k\n",
    "            k += 1\n",
    "\n",
    "        #print(f'{input_list[i]} is equal to {number}')\n",
    "\n",
    "    return indexes\n",
    "\n",
    "\n",
    "def calculate_number(input:str,output:str,indexes:list[int]):\n",
    "    input_list = input.split(' ')\n",
    "    output_list = output.split(' ')\n",
    "    output_numbers = []\n",
    "\n",
    "    for output in output_list:\n",
    "        number = int\n",
    "        for i in range(0,10):\n",
    "            if len(output) == len(input_list[i]) and all(char in output for char in input_list[i]):\n",
    "                k = 0\n",
    "                for index in indexes:\n",
    "                    if index == i: \n",
    "                        number = k\n",
    "                    k += 1\n",
    "        \n",
    "        output_numbers.append(number)\n",
    "\n",
    "    return output_numbers[0]*1000+output_numbers[1]*100+output_numbers[2]*10+output_numbers[3]\n",
    "\n",
    "\n",
    "    \n",
    "\n"
   ]
  },
  {
   "cell_type": "code",
   "execution_count": 129,
   "metadata": {},
   "outputs": [
    {
     "data": {
      "text/plain": [
       "5353"
      ]
     },
     "execution_count": 129,
     "metadata": {},
     "output_type": "execute_result"
    }
   ],
   "source": [
    "test_input = 'acedgfb cdfbe gcdfa fbcad dab cefabd cdfgeb eafb cagedb ab'\n",
    "test_output = 'cdfeb fcadb cdfeb cdbaf'\n",
    "\n",
    "#find_segments(test_input)\n",
    "calculate_number(test_input, test_output,find_segments(test_input))\n",
    "\n"
   ]
  },
  {
   "cell_type": "code",
   "execution_count": 132,
   "metadata": {},
   "outputs": [
    {
     "name": "stdout",
     "output_type": "stream",
     "text": [
      "1096964\n"
     ]
    }
   ],
   "source": [
    "# Doing it for all numbers:\n",
    "sum = 0\n",
    "for i in range(0, len(input_vals)):\n",
    "    sum += calculate_number(input_vals[i], output_vals[i],find_segments(input_vals[i]))\n",
    "print(sum)"
   ]
  },
  {
   "cell_type": "code",
   "execution_count": null,
   "metadata": {},
   "outputs": [],
   "source": []
  }
 ],
 "metadata": {
  "interpreter": {
   "hash": "61b4062b24dfb1010f420dad5aa3bd73a4d2af47d0ec44eafec465a35a9d7239"
  },
  "kernelspec": {
   "display_name": "Python 3.9.7 64-bit ('py39': conda)",
   "language": "python",
   "name": "python3"
  },
  "language_info": {
   "codemirror_mode": {
    "name": "ipython",
    "version": 3
   },
   "file_extension": ".py",
   "mimetype": "text/x-python",
   "name": "python",
   "nbconvert_exporter": "python",
   "pygments_lexer": "ipython3",
   "version": "3.9.7"
  },
  "orig_nbformat": 4
 },
 "nbformat": 4,
 "nbformat_minor": 2
}
