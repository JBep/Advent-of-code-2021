{
 "cells": [
  {
   "cell_type": "markdown",
   "metadata": {},
   "source": [
    "# Day 5\n",
    "\n",
    "Today we want to avoid hydrothermal vents with our submarine. We recieve the start and end of the line in coordinates: x1,y1 -> x2,y2. We want to avoid the most dangerous places where two or more lines overlap.\n",
    "\n",
    "Task 1: Only consider vertical and horizontal lines.\n",
    "Task 2: Also consider diagonal lines (45°)"
   ]
  },
  {
   "cell_type": "code",
   "execution_count": 85,
   "metadata": {},
   "outputs": [],
   "source": [
    "# Reading the input\n",
    "contents = open('input_day5.txt','r').read().splitlines()\n",
    "lines = []\n",
    "\n",
    "# test-list\n",
    "#contents = ['0,9 -> 5,9','8,0 -> 0,8','9,4 -> 3,4','2,2 -> 2,1','7,0 -> 7,4','6,4 -> 2,0','0,9 -> 2,9','3,4 -> 1,4','0,0 -> 8,8','5,5 -> 8,2']\n",
    "\n",
    "for c in contents:\n",
    "    start,end = c.strip().split(\" -> \")\n",
    "    lines.append((start,end))\n"
   ]
  },
  {
   "cell_type": "code",
   "execution_count": 87,
   "metadata": {},
   "outputs": [
    {
     "name": "stdout",
     "output_type": "stream",
     "text": [
      "The number of grid-spots where two or more lines cross is: 21038.\n"
     ]
    },
    {
     "data": {
      "image/png": "[encoded data removed]",
      "text/plain": [
       "<Figure size 432x288 with 1 Axes>"
      ]
     },
     "metadata": {
      "needs_background": "light"
     },
     "output_type": "display_data"
    }
   ],
   "source": [
    "# Initiating grid\n",
    "import matplotlib.pyplot as plt\n",
    "import numpy as np\n",
    "grid = np.zeros((1000,1000))\n",
    "\n",
    "# line is a list of tuples of the form ('x1,y1','x2,y2')\n",
    "for line in lines:\n",
    "    \n",
    "    x1,y1 = line[0].split(\",\")\n",
    "    x2,y2 = line[1].split(\",\")\n",
    "    x1,x2,y1,y2 = int(x1),int(x2),int(y1),int(y2)\n",
    "    #print(f'x1: {x1}, y1: {y1}, x2: {x2}, y2: {y2}.')\n",
    "\n",
    "    # Vertical lines\n",
    "    if x1 == x2:\n",
    "        x = x1\n",
    "        y_start = min([y1,y2])\n",
    "        y_end = max([y1,y2])\n",
    "        \n",
    "        while(y_start <= y_end):\n",
    "            grid[y_start][x] += 1\n",
    "            y_start += 1\n",
    "\n",
    "    # Horizontal lines\n",
    "    elif y1 == y2:        \n",
    "        y = y1\n",
    "        x_start = min([x1,x2])\n",
    "        x_end = max([x1,x2])\n",
    "\n",
    "        while(x_start <= x_end):\n",
    "            grid[y][x_start] += 1\n",
    "            x_start += 1\n",
    "    \n",
    "    # Diagonal lines\n",
    "    else: \n",
    "        x,y = x1,y1\n",
    "\n",
    "        for i in range(0,np.abs(x1-x2)+1):\n",
    "            grid[y][x] += 1\n",
    "            x = x + np.sign(x2-x1)\n",
    "            y = y + np.sign(y2-y1)\n",
    "    \n",
    "    \n",
    "\n",
    "\n",
    "   \n",
    "count = 0\n",
    "for row in grid:\n",
    "    for coordinate in row:\n",
    "        #print(f'coordinate: {coordinate}, type: {type(coordinate)}')\n",
    "        if coordinate > 1:\n",
    "            count += 1\n",
    "        #print(count)\n",
    "\n",
    "print(f\"The number of grid-spots where two or more lines cross is: {count}.\")\n",
    "\n",
    "# Some visualization.\n",
    "plt.imshow(grid, cmap='hot', interpolation='nearest')\n",
    "plt.show()\n",
    "\n",
    "\n",
    "\n"
   ]
  }
 ],
 "metadata": {
  "interpreter": {
   "hash": "61b4062b24dfb1010f420dad5aa3bd73a4d2af47d0ec44eafec465a35a9d7239"
  },
  "kernelspec": {
   "display_name": "Python 3.9.7 64-bit ('py39': conda)",
   "language": "python",
   "name": "python3"
  },
  "language_info": {
   "codemirror_mode": {
    "name": "ipython",
    "version": 3
   },
   "file_extension": ".py",
   "mimetype": "text/x-python",
   "name": "python",
   "nbconvert_exporter": "python",
   "pygments_lexer": "ipython3",
   "version": "3.9.7"
  },
  "orig_nbformat": 4
 },
 "nbformat": 4,
 "nbformat_minor": 2
}
