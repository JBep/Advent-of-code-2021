{
 "cells": [
  {
   "cell_type": "markdown",
   "metadata": {},
   "source": [
    "# Day 4\n",
    "The task is to play bingo against a giant squid!\n",
    "\n",
    "Given input consisting of a list of numbers that's drawn and a bunch of 5x5 grids we're to pick out the winning grid, the winner is chosen as the first board that has a full column or row marked according to regulare Bingo rules.\n",
    "\n",
    "The first task is to find the board that wins first, the 2nd task is to find the board that's \"last\" to win.\n",
    "\n",
    "Output is the \"score\" of the board found by multiplying the sum of all the unmarked numbers of the winning board with the last number that was called before the board won."
   ]
  },
  {
   "cell_type": "code",
   "execution_count": 154,
   "metadata": {},
   "outputs": [],
   "source": [
    "# Libraries & Inputs\n",
    "import pandas as pd\n",
    "contents = open('input_day4.txt','r').read().split('\\n\\n')\n"
   ]
  },
  {
   "cell_type": "markdown",
   "metadata": {},
   "source": [
    "The boards will be represented with a class where each object has a representation of the board numbers and of the board markings."
   ]
  },
  {
   "cell_type": "code",
   "execution_count": 165,
   "metadata": {},
   "outputs": [],
   "source": [
    "# Defining the board class\n",
    "class Board():\n",
    "    id_counter = 0\n",
    "\n",
    "    def __init__(self,board:str):\n",
    "        \"\"\" Creates a board-object.\n",
    "        \n",
    "        Board is a string where numbers on the same row are separated by a space and rows are separated by a linebreak.\n",
    "        \"\"\"\n",
    "\n",
    "        self.board_numbers = self.initiate_board(board)\n",
    "        self.size = len(self.board_numbers)\n",
    "        self.board_markings = pd.DataFrame([[False]*self.size]*self.size)\n",
    "        self.id_no = Board.id_counter\n",
    "        Board.id_counter += 1\n",
    "\n",
    "    def initiate_board(self,board_str:str):\n",
    "        \"\"\" Creates a board from the input strings.\n",
    "\n",
    "        \"\"\" \n",
    "\n",
    "        board_str = board_str.replace(\"  \", \" \")\n",
    "        board = [[int(r) for r in row.strip().split(\" \")] for row in board_str.split(\"\\n\")]\n",
    "        return pd.DataFrame(board)\n",
    "\n",
    "\n",
    "\n",
    "    def mark(self,number):\n",
    "        \"\"\"\" Marks the number by setting the internal board_markings to true at the position.\n",
    "\n",
    "        \"\"\"\n",
    "\n",
    "        for row in range(0,self.size):\n",
    "            for col in range(0,self.size):\n",
    "                if(self.board_numbers.iloc[row][col] == number):\n",
    "                    self.board_markings.iloc[row][col] = True\n",
    "                    return\n",
    "    \n",
    "    def check_win(self):\n",
    "        \"\"\" Returns true if a column or row is filled.\n",
    "\n",
    "        \"\"\"\n",
    "\n",
    "        for i in range(0,self.size):\n",
    "            # Checking the rows.\n",
    "            if self.board_markings.sum(axis=1)[i] == self.size:\n",
    "                return True\n",
    "            # Checking columns.\n",
    "            if self.board_markings.sum(axis=0)[i] == self.size:\n",
    "                return True\n",
    "        return False\n",
    "\n",
    "    def sum_unmarked(self):\n",
    "        return self.board_numbers[self.board_markings == False].sum(skipna=True).sum()\n",
    "        \n",
    "    def print(self):\n",
    "        print(self.board_numbers)\n",
    "        print(self.board_markings)\n",
    "        print(f'id: {self.id_no}')\n",
    "\n",
    "\n",
    "\n"
   ]
  },
  {
   "cell_type": "code",
   "execution_count": 166,
   "metadata": {},
   "outputs": [
    {
     "name": "stdout",
     "output_type": "stream",
     "text": [
      "Sum unmarked numbers: 858.0, last number: 39, Answer: 33462.0\n"
     ]
    }
   ],
   "source": [
    "## Task 1, find the board which wins first.\n",
    "# Reading in the input\n",
    "bingo_numbers = [int(number) for number in contents[0].split(',')]\n",
    "boards = set(Board(board) for board in contents[1:])\n",
    "\n",
    "winner = None\n",
    "last_number = None\n",
    "i = 0\n",
    "\n",
    "while winner == None:\n",
    "    n = bingo_numbers[i]\n",
    "    for board in boards:\n",
    "        board.mark(n)\n",
    "    \n",
    "    for board in boards:\n",
    "        if(board.check_win()):\n",
    "            winner = board\n",
    "            last_number = n\n",
    "            break\n",
    "    i += 1\n",
    "\n",
    "print(f'Sum unmarked numbers: {winner.sum_unmarked()}, last number: {last_number}, Answer: {winner.sum_unmarked()*last_number}')\n",
    "            "
   ]
  },
  {
   "cell_type": "code",
   "execution_count": 170,
   "metadata": {},
   "outputs": [
    {
     "name": "stdout",
     "output_type": "stream",
     "text": [
      "Iteration: 0, no of boards: 100, number: 92.\n",
      "Iteration: 10, no of boards: 100, number: 37.\n",
      "Iteration: 20, no of boards: 100, number: 74.\n",
      "Iteration: 30, no of boards: 95, number: 35.\n",
      "Iteration: 40, no of boards: 92, number: 38.\n",
      "Iteration: 50, no of boards: 81, number: 90.\n",
      "Iteration: 60, no of boards: 57, number: 25.\n",
      "Iteration: 70, no of boards: 25, number: 54.\n",
      "Iteration: 80, no of boards: 3, number: 6.\n",
      "    0   1   2   3   4\n",
      "0  21  48  58   4  31\n",
      "1  50   6  98  43  41\n",
      "2  88  80  24  35  40\n",
      "3  14  45  61  10  81\n",
      "4  97  27  46   8  20\n",
      "      0      1      2      3      4\n",
      "0  True   True  False   True   True\n",
      "1  True   True   True  False  False\n",
      "2  True  False   True   True   True\n",
      "3  True   True  False   True   True\n",
      "4  True  False   True   True   True\n",
      "id: 491\n",
      "Sum unmarked numbers: 310.0, last number: 97, Answer: 30070.0\n"
     ]
    }
   ],
   "source": [
    "## Task 2, find the board which wins last.\n",
    "bingo_numbers = [int(number) for number in contents[0].split(',')]\n",
    "boards = set(Board(board) for board in contents[1:])\n",
    "\n",
    "i = 0\n",
    "last_removed = None\n",
    "\n",
    "while len(boards) > 0:\n",
    "    n = bingo_numbers[i]\n",
    "    for board in boards:\n",
    "        board.mark(n)\n",
    "    \n",
    "    if i%10 == 0:\n",
    "        print(f'Iteration: {i}, no of boards: {len(boards)}, number: {n}.')\n",
    "\n",
    "    to_be_removed = set()\n",
    "    for board in boards:\n",
    "        if(board.check_win()):\n",
    "            to_be_removed.add(board)\n",
    "\n",
    "    for b in to_be_removed:\n",
    "        boards.remove(b)\n",
    "    i += 1\n",
    "    \n",
    "    \n",
    "    last_removed = to_be_removed\n",
    "\n",
    "    last_number = n\n",
    "    \n",
    "\n",
    "last_winner = last_removed.pop()\n",
    "last_winner.print()\n",
    "\n",
    "print(f'Sum unmarked numbers: {last_winner.sum_unmarked()}, last number: {last_number}, Answer: {last_winner.sum_unmarked()*last_number}')\n",
    "\n",
    "\n",
    "            "
   ]
  },
  {
   "cell_type": "code",
   "execution_count": 158,
   "metadata": {},
   "outputs": [
    {
     "name": "stdout",
     "output_type": "stream",
     "text": [
      "    0   1   2   3   4\n",
      "0  27  70  79  26  36\n",
      "1  78  23  73  84  85\n",
      "2  75  32  41  14  87\n",
      "3  68  99  34  93  61\n",
      "4  62  86  49   9  77\n",
      "      0     1     2     3     4\n",
      "0  True  True  True  True  True\n",
      "1  True  True  True  True  True\n",
      "2  True  True  True  True  True\n",
      "3  True  True  True  True  True\n",
      "4  True  True  True  True  True\n",
      "id: 144\n",
      "    0   1   2   3   4\n",
      "0  27  76  75  60  99\n",
      "1  63  26   4  59  31\n",
      "2  10   5  98  39  78\n",
      "3  24  43  48   6  45\n",
      "4   0  18  82  22  35\n",
      "      0     1     2     3     4\n",
      "0  True  True  True  True  True\n",
      "1  True  True  True  True  True\n",
      "2  True  True  True  True  True\n",
      "3  True  True  True  True  True\n",
      "4  True  True  True  True  True\n",
      "id: 190\n",
      "    0   1   2   3   4\n",
      "0  88  50  27  48  23\n",
      "1  96  90  30  58  55\n",
      "2  29  17   3  22  49\n",
      "3  99  32   8  37  42\n",
      "4  13  81  87   2  53\n",
      "       0     1     2     3     4\n",
      "0   True  True  True  True  True\n",
      "1   True  True  True  True  True\n",
      "2   True  True  True  True  True\n",
      "3   True  True  True  True  True\n",
      "4  False  True  True  True  True\n",
      "id: 145\n"
     ]
    }
   ],
   "source": [
    "\n",
    "for board in last_removed:\n",
    "    board.print()"
   ]
  },
  {
   "cell_type": "code",
   "execution_count": 145,
   "metadata": {},
   "outputs": [
    {
     "name": "stdout",
     "output_type": "stream",
     "text": [
      "    0   1   2   3   4\n",
      "0  37  47  13  68  40\n",
      "1  38  92  78  83  27\n",
      "2  82  81  85  35  31\n",
      "3  25  80   2  77  67\n",
      "4  55   7  72  26  22\n",
      "       0      1      2      3      4\n",
      "0  False  False  False  False  False\n",
      "1  False  False  False  False  False\n",
      "2  False  False  False  False  False\n",
      "3  False  False  False  False  False\n",
      "4  False  False  False  False  False\n",
      "0\n",
      "    0   1   2   3   4\n",
      "0  37  47  13  68  40\n",
      "1  38  92  78  83  27\n",
      "2  82  81  85  35  31\n",
      "3  25  80   2  77  67\n",
      "4  55   7  72  26  22\n",
      "       0      1      2      3      4\n",
      "0  False  False  False  False  False\n",
      "1  False  False  False  False  False\n",
      "2  False  False  False  False  False\n",
      "3  False  False  False  False  False\n",
      "4  False  False  False  False  False\n",
      "1\n"
     ]
    }
   ],
   "source": [
    "# Test code\n",
    "test_board = '37 47 13 68 40\\n38 92 78 83 27\\n82 81  85 35 31\\n25 80  2 77 67\\n55 7 72 26 22'\n",
    "board = Board(test_board)\n",
    "board2 = Board(test_board)\n",
    "\n",
    "#for i in [6,7,8,10,22]:\n",
    "#    board.mark(i)\n",
    "\n",
    "\n",
    "board.print()\n",
    "board2.print()\n",
    "#board.check_win()\n",
    "#df = board.sum_unmarked()\n",
    "#print(df)\n",
    "\n"
   ]
  },
  {
   "cell_type": "code",
   "execution_count": null,
   "metadata": {},
   "outputs": [],
   "source": []
  }
 ],
 "metadata": {
  "interpreter": {
   "hash": "61b4062b24dfb1010f420dad5aa3bd73a4d2af47d0ec44eafec465a35a9d7239"
  },
  "kernelspec": {
   "display_name": "Python 3.9.7 64-bit ('py39': conda)",
   "language": "python",
   "name": "python3"
  },
  "language_info": {
   "codemirror_mode": {
    "name": "ipython",
    "version": 3
   },
   "file_extension": ".py",
   "mimetype": "text/x-python",
   "name": "python",
   "nbconvert_exporter": "python",
   "pygments_lexer": "ipython3",
   "version": "3.9.7"
  },
  "orig_nbformat": 4
 },
 "nbformat": 4,
 "nbformat_minor": 2
}
