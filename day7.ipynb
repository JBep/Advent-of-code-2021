{
 "cells": [
  {
   "cell_type": "markdown",
   "metadata": {},
   "source": [
    "# Day 7\n",
    "Today we need to align crabs. We recieve their horizontal position and want to determine to what horizontal position we should align them in order to minimize the fuel needed for the re-alignment. So if a crab has a position of 10 and we want to align it to 2, that would be an alignment of 14 steps.\n",
    "\n",
    "Task 1: Each step costs 1 fuel.\n",
    "Task 2: Fuel burn is not constant, the 1st step cost 1 fuel, 2nd step cost 2 fuel, third 3 fuel and so on.\n"
   ]
  },
  {
   "cell_type": "code",
   "execution_count": 13,
   "metadata": {},
   "outputs": [
    {
     "name": "stdout",
     "output_type": "stream",
     "text": [
      "Max: 1840, Min: 0.\n"
     ]
    }
   ],
   "source": [
    "input = [int(item) for item in open('input_day7.txt','r').read().split(\",\")]\n",
    "\n",
    "#test_input:\n",
    "#input = [int(item) for item in '16,1,2,0,4,2,7,1,2,14'.split(\",\")]\n",
    "\n",
    "print(f'Max: {max(input)}, Min: {min(input)}.') # So all numbers are positive."
   ]
  },
  {
   "cell_type": "code",
   "execution_count": 22,
   "metadata": {},
   "outputs": [
    {
     "name": "stdout",
     "output_type": "stream",
     "text": [
      "The best-case amount of fuel is: 355150.\n"
     ]
    }
   ],
   "source": [
    "# Task 1.\n",
    "import numpy as np\n",
    "\n",
    "def loss_function_task1(x,beta):\n",
    "    return np.abs(x-beta)\n",
    "\n",
    "def minimize(crabs,loss_fn):\n",
    "    losses = []\n",
    "    for alignment_position in range(min(input),max(input)):\n",
    "        loss = 0\n",
    "        for crab_position in crabs:\n",
    "            loss += loss_fn(crab_position,alignment_position)\n",
    "        losses.append(loss)\n",
    "    \n",
    "    return min(losses)\n",
    "\n",
    "print(f'The best-case amount of fuel is: {minimize(input,loss_function_task1)}.')\n"
   ]
  },
  {
   "cell_type": "code",
   "execution_count": 24,
   "metadata": {},
   "outputs": [
    {
     "name": "stdout",
     "output_type": "stream",
     "text": [
      "The best-case amount of fuel for task 2 is: 98368490.0\n"
     ]
    }
   ],
   "source": [
    "#Task 2\n",
    "\n",
    "def loss_function_task2(crab_pos, alignment_pos):\n",
    "    steps = np.abs(crab_pos-alignment_pos)\n",
    "    return steps*(1+steps)/2 # Arithmetic sum from 1 to steps.\n",
    "\n",
    "print(f'The best-case amount of fuel for task 2 is: {minimize(input,loss_function_task2)}')"
   ]
  },
  {
   "cell_type": "code",
   "execution_count": null,
   "metadata": {},
   "outputs": [],
   "source": []
  }
 ],
 "metadata": {
  "interpreter": {
   "hash": "61b4062b24dfb1010f420dad5aa3bd73a4d2af47d0ec44eafec465a35a9d7239"
  },
  "kernelspec": {
   "display_name": "Python 3.9.7 64-bit ('py39': conda)",
   "language": "python",
   "name": "python3"
  },
  "language_info": {
   "codemirror_mode": {
    "name": "ipython",
    "version": 3
   },
   "file_extension": ".py",
   "mimetype": "text/x-python",
   "name": "python",
   "nbconvert_exporter": "python",
   "pygments_lexer": "ipython3",
   "version": "3.9.7"
  },
  "orig_nbformat": 4
 },
 "nbformat": 4,
 "nbformat_minor": 2
}
