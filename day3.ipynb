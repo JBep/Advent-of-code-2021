{
 "cells": [
  {
   "cell_type": "markdown",
   "metadata": {},
   "source": [
    "# Day 3\n",
    "The input is a set of binary numbers like \"01101\" of the same size. We want to find the \"Gamma rate\" by looking at the most common number of each bit. Then multiply with the \"epsilon rate\" which is the least common number of each bit."
   ]
  },
  {
   "cell_type": "code",
   "execution_count": 83,
   "metadata": {},
   "outputs": [
    {
     "name": "stdout",
     "output_type": "stream",
     "text": [
      "gamma: 394, epsilon: 3701, power: 1458194\n"
     ]
    }
   ],
   "source": [
    "import pandas as pd\n",
    "with open('input_day3.txt','r') as file:\n",
    "    input = file.read().splitlines()\n",
    "\n",
    "#Test-input\n",
    "#input = ['00100','11110','10110','10111','10101','01111','00111','11100','10000','11001','00010','01010']\n",
    "\n",
    "length_binary = len(input[0])\n",
    "counter = pd.DataFrame([[0]*length_binary,[0]*length_binary], index = ['Ones','Zeros'])\n",
    "counter.columns.name = 'Position'\n",
    "for binary_number in input:\n",
    "    for i in range(0,length_binary):\n",
    "        if binary_number[i] == '1':\n",
    "            counter.iloc[0][i] += 1\n",
    "        else:\n",
    "            counter.iloc[1][i] += 1\n",
    "\n",
    "gamma_rate = 0\n",
    "epsilon_rate = 0\n",
    "\n",
    "for i in range(0,length_binary):\n",
    "    if counter.iloc[0][i] > counter.iloc[1][i]:\n",
    "        gamma_rate += 2**(length_binary-i-1)\n",
    "    else:\n",
    "        epsilon_rate += 2**(length_binary-i-1)\n",
    "\n",
    "print(f'gamma: {gamma_rate}, epsilon: {epsilon_rate}, power: {gamma_rate * epsilon_rate}')\n",
    "\n"
   ]
  },
  {
   "cell_type": "markdown",
   "metadata": {},
   "source": [
    "## Task 2\n",
    "For part 2 we want to mulyiply \"oxygen generator rating\" with \"CO2 scrubber rating\".\n",
    "We find these by looking at each bit individually, starting from the left. For oxygen we keep numbers with the current bit equal to the most common one. For CO2, we keep the bits that's least common."
   ]
  },
  {
   "cell_type": "code",
   "execution_count": 85,
   "metadata": {},
   "outputs": [
    {
     "name": "stdout",
     "output_type": "stream",
     "text": [
      "Oxygen: ('001100010101', 789), CO2: ('111000000010', 3586), Life support: 2829354\n"
     ]
    }
   ],
   "source": [
    "## Task 2\n",
    "\n",
    "# Putting all numbers into a set\n",
    "input_set_oxy = set(input)\n",
    "input_set_co2 = set(input)\n",
    "\n",
    "# Removing numbers from set according to rules.\n",
    "for i in range(0,length_binary):\n",
    "    ones = 0\n",
    "    zeros = 0\n",
    "    most_common_bit = '1'\n",
    "    for number in input_set_oxy:\n",
    "        if number[i] == '1':\n",
    "            ones += 1\n",
    "        else: \n",
    "            zeros += 1\n",
    "    if zeros > ones:\n",
    "        most_common_bit = '0'\n",
    "    \n",
    "    # If the bit is not the most common, it is removed.\n",
    "    to_be_removed = set()\n",
    "    for number in input_set_oxy:\n",
    "        if number[i] != most_common_bit:\n",
    "            to_be_removed.add(number)\n",
    "    input_set_oxy -= to_be_removed\n",
    "    if len(input_set_oxy) == 1:\n",
    "        break\n",
    "\n",
    "# Same thing for co2:\n",
    "for i in range(0,length_binary):\n",
    "    ones = 0\n",
    "    zeros = 0\n",
    "    most_common_bit = '1'\n",
    "    for number in input_set_co2:\n",
    "        if number[i] == '1':\n",
    "            ones += 1\n",
    "        else: \n",
    "            zeros += 1\n",
    "\n",
    "    if zeros > ones:\n",
    "        most_common_bit = '0'\n",
    "\n",
    "    # Difference is that if it now IS the most common it is removed.\n",
    "    to_be_removed = set()\n",
    "    for number in input_set_co2:\n",
    "        if number[i] == most_common_bit:\n",
    "            to_be_removed.add(number)\n",
    "    input_set_co2 -= to_be_removed\n",
    "    if len(input_set_co2) == 1:\n",
    "        break\n",
    "\n",
    "# Converting from binary to decimal\n",
    "oxy_rate_binary = input_set_oxy.pop()\n",
    "co2_rate_binary = input_set_co2.pop()\n",
    "oxy_rate = 0\n",
    "co2_rate = 0\n",
    "\n",
    "for i in range(0,length_binary):\n",
    "    oxy_rate += int(oxy_rate_binary[i])*2**(length_binary-i-1)\n",
    "    co2_rate += int(co2_rate_binary[i])*2**(length_binary-i-1)\n",
    "\n",
    "life_supp = oxy_rate*co2_rate\n",
    "\n",
    "print(f'Oxygen: {oxy_rate_binary,oxy_rate}, CO2: {co2_rate_binary,co2_rate}, Life support: {life_supp}')\n",
    "    \n",
    "\n"
   ]
  },
  {
   "cell_type": "code",
   "execution_count": null,
   "metadata": {},
   "outputs": [],
   "source": [
    "# Find oxygen bit"
   ]
  }
 ],
 "metadata": {
  "interpreter": {
   "hash": "61b4062b24dfb1010f420dad5aa3bd73a4d2af47d0ec44eafec465a35a9d7239"
  },
  "kernelspec": {
   "display_name": "Python 3.9.7 64-bit ('py39': conda)",
   "language": "python",
   "name": "python3"
  },
  "language_info": {
   "codemirror_mode": {
    "name": "ipython",
    "version": 3
   },
   "file_extension": ".py",
   "mimetype": "text/x-python",
   "name": "python",
   "nbconvert_exporter": "python",
   "pygments_lexer": "ipython3",
   "version": "3.9.7"
  },
  "orig_nbformat": 4
 },
 "nbformat": 4,
 "nbformat_minor": 2
}
